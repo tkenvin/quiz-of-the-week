{
 "cells": [
  {
   "cell_type": "markdown",
   "id": "c1355c19-0a7b-4510-b062-96e3537576c6",
   "metadata": {},
   "source": [
    "Script to analyse the Quiz of the Week data from the CSV. Specifically it creates a scatter plot with all the results, a bar chart with the frequencies, and also a statistical analysis of each denominator."
   ]
  },
  {
   "cell_type": "code",
   "execution_count": null,
   "id": "7b643b47-1b96-49e4-8442-6a017c721f8d",
   "metadata": {},
   "outputs": [],
   "source": [
    "import os\n",
    "import pandas as pd\n",
    "from matplotlib import pyplot as plt"
   ]
  },
  {
   "cell_type": "code",
   "execution_count": null,
   "id": "824c70ea-76eb-4e08-800c-0b4023a161de",
   "metadata": {},
   "outputs": [],
   "source": [
    "# File name\n",
    "INPUT_FILE_NAME = 'qotw.csv'\n",
    "\n",
    "# Existing columns\n",
    "DATE = 'date'\n",
    "NUMERATOR = 'numerator'\n",
    "DENOMINATOR = 'denominator'\n",
    "\n",
    "# New column\n",
    "WEIGHTED = 'weighted'"
   ]
  },
  {
   "cell_type": "code",
   "execution_count": null,
   "id": "cf24db94-fe25-4000-9516-a10dd69282e7",
   "metadata": {},
   "outputs": [],
   "source": [
    "data = pd.read_csv(INPUT_FILE_NAME)\n",
    "data[WEIGHTED] = data[NUMERATOR]/data[DENOMINATOR]\n",
    "data[DATE] = pd.to_datetime(data[DATE], format='%Y-%m-%d')\n",
    "data.index.names = ['id']"
   ]
  },
  {
   "cell_type": "code",
   "execution_count": null,
   "id": "402132a0",
   "metadata": {},
   "outputs": [],
   "source": [
    "groups = data.groupby(by=DENOMINATOR)\n",
    "scatter = plt.figure(1, figsize=(50, 20))\n",
    "plt.scatter(data[DATE], data[WEIGHTED])\n",
    "cols = groups.indices\n",
    "analysis = pd.DataFrame()\n",
    "for i in cols:\n",
    "    group = groups.get_group(i)\n",
    "    analysis[i] = group[NUMERATOR].describe()\n",
    "    plt.scatter(group[DATE], group[NUMERATOR])\n",
    "analysis = analysis.transpose()\n",
    "analysis.index.names = ['denominator']"
   ]
  },
  {
   "cell_type": "code",
   "execution_count": null,
   "id": "58f54944",
   "metadata": {},
   "outputs": [],
   "source": [
    "try:\n",
    "    os.mkdir('../output/')\n",
    "except FileExistsError:\n",
    "    # Do nothing, the output directory already exists\n",
    "    pass"
   ]
  },
  {
   "cell_type": "code",
   "execution_count": null,
   "id": "84527b38-8397-4cc6-a8c0-e93f21ce7576",
   "metadata": {},
   "outputs": [],
   "source": [
    "scatter.savefig('../output/scatter.png')\n",
    "\n",
    "analysis.to_csv('../output/analysistable.csv')"
   ]
  },
  {
   "cell_type": "code",
   "execution_count": null,
   "id": "d74c628a",
   "metadata": {},
   "outputs": [],
   "source": [
    "counts = data.value_counts(subset=[NUMERATOR, DENOMINATOR], sort=False, dropna=False)\n",
    "counts_bar_fig = plt.figure(2)\n",
    "counts.plot.bar()\n",
    "counts_bar_fig.savefig('../output/counts_bar.png')"
   ]
  },
  {
   "cell_type": "code",
   "execution_count": null,
   "id": "37a4b958",
   "metadata": {},
   "outputs": [],
   "source": [
    "data.to_csv('../output/qotw.csv')"
   ]
  }
 ],
 "metadata": {
  "kernelspec": {
   "display_name": "Python 3",
   "language": "python",
   "name": "python3"
  },
  "language_info": {
   "codemirror_mode": {
    "name": "ipython",
    "version": 3
   },
   "file_extension": ".py",
   "mimetype": "text/x-python",
   "name": "python",
   "nbconvert_exporter": "python",
   "pygments_lexer": "ipython3",
   "version": "3.12.5"
  }
 },
 "nbformat": 4,
 "nbformat_minor": 5
}
